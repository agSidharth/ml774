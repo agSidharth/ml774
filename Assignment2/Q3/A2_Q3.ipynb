{
  "cells": [
    {
      "cell_type": "code",
      "execution_count": null,
      "metadata": {
        "colab": {
          "base_uri": "https://localhost:8080/"
        },
        "id": "EI3M857wDpQm",
        "outputId": "864b1d55-d097-4b9b-9c1f-cc5d34307092"
      },
      "outputs": [
        {
          "name": "stdout",
          "output_type": "stream",
          "text": [
            "Drive already mounted at /content/drive; to attempt to forcibly remount, call drive.mount(\"/content/drive\", force_remount=True).\n"
          ]
        }
      ],
      "source": [
        "from google.colab import drive\n",
        "drive.mount('/content/drive')"
      ]
    },
    {
      "cell_type": "code",
      "execution_count": null,
      "metadata": {
        "id": "vBYKOo7iDtLf"
      },
      "outputs": [],
      "source": [
        "import math\n",
        "import sys\n",
        "import matplotlib.pyplot as plt\n",
        "import numpy as np\n",
        "import pandas as pd\n",
        "import os\n",
        "import re\n",
        "import pickle\n",
        "import cvxopt\n",
        "from scipy.spatial.distance import pdist,squareform,cdist\n",
        "from sklearn.svm import SVC\n",
        "from sklearn import metrics\n",
        "import time\n",
        "\n",
        "training_file = \"drive/MyDrive/part2_data/train_data.pickle\" #str(sys.argv[1])\n",
        "testing_file  = \"drive/MyDrive/part2_data/test_data.pickle\"  #str(sys.argv[2])\n",
        "\n",
        "EPSILON = 1e-4\n",
        "gamma = 0.001\n",
        "C = 1.0\n",
        "TOTAL_CLASSES = 5"
      ]
    },
    {
      "cell_type": "code",
      "execution_count": null,
      "metadata": {
        "id": "qVn479wzDvby"
      },
      "outputs": [],
      "source": [
        "def readData(file_name):\n",
        "    file = open(file_name,\"rb\")\n",
        "    fileDict = pickle.load(file)\n",
        "    \n",
        "    X = []\n",
        "    Y = []\n",
        "\n",
        "    for idx in range(len(fileDict[\"data\"])):\n",
        "        X.append(fileDict[\"data\"][idx].reshape(-1))\n",
        "        Y.append(fileDict[\"labels\"][idx])\n",
        "\n",
        "    X = np.array(X)\n",
        "    Y = np.array(Y)\n",
        "    \n",
        "    X = X/255\n",
        "    \n",
        "    X = X.astype('float64')\n",
        "    Y = Y.astype('float64')\n",
        "    \n",
        "    return X,Y\n",
        "\n",
        "X,Y = readData(training_file)\n",
        "X_test,Y_test = readData(testing_file)"
      ]
    },
    {
      "cell_type": "code",
      "execution_count": null,
      "metadata": {
        "id": "2bEQY115DyA-"
      },
      "outputs": [],
      "source": [
        "def svm_cvxopt(X,Y,isLinear,C,gamma):\n",
        "    \n",
        "    start_time = time.time()\n",
        "\n",
        "    if isLinear:\n",
        "        tempProd0 = np.matmul(X,X.T)\n",
        "        tempProd = np.matmul(Y,Y.T)*tempProd0\n",
        "        P = cvxopt.matrix(tempProd)\n",
        "    else:\n",
        "        tempProd0 = gaussian_kernel(X,X)\n",
        "        P = cvxopt.matrix(np.matmul(Y,Y.T)*tempProd0)\n",
        "    \n",
        "    tempG = np.identity(Y.shape[0])\n",
        "    G = cvxopt.matrix(np.append(tempG,-1*tempG,axis = 0))\n",
        "    \n",
        "    Q = cvxopt.matrix(-1*np.ones((Y.shape[0],1)))\n",
        "    \n",
        "    A = cvxopt.matrix(Y.T)\n",
        "    \n",
        "    tempH = np.ones((Y.shape[0],1))\n",
        "    H = cvxopt.matrix(np.append(C * tempH, 0 * tempH, axis=0))\n",
        "    \n",
        "    B = cvxopt.matrix(0.0)\n",
        "    \n",
        "    sol = cvxopt.solvers.qp(P, Q, G, H, A, B, options={'show_progress': False})\n",
        "    \n",
        "    tempX = np.array(sol['x'])\n",
        "    alpha = np.reshape(tempX, (Y.shape[0],1))\n",
        "    \n",
        "    indices = []\n",
        "    \n",
        "    for idx in range(Y.shape[0]):\n",
        "        if alpha[idx] > EPSILON:\n",
        "            indices.append(idx)\n",
        "\n",
        "    if isLinear:\n",
        "      inner_product = np.sum(alpha*Y*tempProd0,0)\n",
        "    else:\n",
        "      inner_product = np.sum(alpha*Y*gaussian_kernel(X,X),0)\n",
        "\n",
        "    M = -float(\"inf\")\n",
        "    M_index = -1\n",
        "    m = float(\"inf\")\n",
        "    m_index = -1\n",
        "\n",
        "    for idx in range(Y.shape[0]):\n",
        "        val = -float(\"inf\") if Y[idx]==1 else inner_product[idx]\n",
        "        if M<val:\n",
        "          M = val\n",
        "          M_index = idx\n",
        "        \n",
        "        val = float(\"inf\") if Y[idx]==-1 else inner_product[idx]\n",
        "        if m>val:\n",
        "          m = val\n",
        "          m_index = idx\n",
        "    \n",
        "    b = -1*(inner_product[M_index]+inner_product[m_index])/2\n",
        "    \n",
        "    print(\"Total training time: \"+str(time.time()-start_time))\n",
        "    return alpha,indices,b\n",
        "\n",
        "def LinearAccuracy(X,Y,W,b):\n",
        "    pred = np.where((np.matmul(X,W)+b)>=0,1,-1)\n",
        "    return (sum(pred==Y)[0]*100)/Y.shape[0]\n",
        "\n",
        "def gaussian_kernel(x, y):\n",
        "    return np.exp(-1*gamma * cdist(x, y, \"sqeuclidean\"))\n",
        "\n",
        "def eval(x_test, y_test,X_train,Y_train,alpha,b,indices,gamma):\n",
        "    y_hat = (np.sum(alpha * Y_train * gaussian_kernel(X_train, x_test),axis=0,keepdims=True).T + b)\n",
        "    return np.sign(y_hat)\n",
        "\n",
        "def GaussAccuracy(X_test,Y_test,X_train,Y_train,alpha,b,indices,gamma):\n",
        "    final_pred = eval(X_test,Y_test,X_train[indices],Y_train[indices],alpha[indices],b,indices,gamma)\n",
        "\n",
        "    return (sum(final_pred==Y_test)[0]*100)/Y_test.shape[0]"
      ]
    },
    {
      "cell_type": "code",
      "execution_count": null,
      "metadata": {
        "id": "XsAQ_mEpiOyy"
      },
      "outputs": [],
      "source": [
        "def kC2_cvxopt(X,Y,C,gamma):\n",
        "    classifier = {}\n",
        "\n",
        "    for idx in range(TOTAL_CLASSES):\n",
        "      for jdx in range(idx+1,TOTAL_CLASSES):\n",
        "\n",
        "        indices = np.append(np.where(Y==idx)[0],np.where(Y==jdx)[0])\n",
        "        Xij = X[indices]\n",
        "        Yij = np.where(Y[indices]==jdx,1,-1)\n",
        "\n",
        "        Xij = Xij.astype('float64')\n",
        "        Yij = Yij.astype('float64')\n",
        "        \n",
        "        classifier[idx,jdx] = svm_cvxopt(Xij,Yij,False,C,gamma)\n",
        "        print(str(idx)+\",\"+str(jdx)+\": Model trained\")\n",
        "    \n",
        "    return classifier"
      ]
    },
    {
      "cell_type": "code",
      "execution_count": null,
      "metadata": {
        "colab": {
          "base_uri": "https://localhost:8080/"
        },
        "id": "yaOyPDvIplCs",
        "outputId": "d76bea7f-0da1-4874-8407-5724e2bc3057"
      },
      "outputs": [
        {
          "name": "stdout",
          "output_type": "stream",
          "text": [
            "Total training time: 161.1830370426178\n",
            "0,1: Model trained\n",
            "Total training time: 167.7929708957672\n",
            "0,2: Model trained\n",
            "Total training time: 163.53690385818481\n",
            "0,3: Model trained\n",
            "Total training time: 159.71769952774048\n",
            "0,4: Model trained\n",
            "Total training time: 143.9530894756317\n",
            "1,2: Model trained\n",
            "Total training time: 144.38513350486755\n",
            "1,3: Model trained\n",
            "Total training time: 149.95694017410278\n",
            "1,4: Model trained\n",
            "Total training time: 138.4237790107727\n",
            "2,3: Model trained\n",
            "Total training time: 144.09424567222595\n",
            "2,4: Model trained\n",
            "Total training time: 137.6224865913391\n",
            "3,4: Model trained\n"
          ]
        }
      ],
      "source": [
        "classifier = kC2_cvxopt(X,Y,C,gamma)"
      ]
    },
    {
      "cell_type": "code",
      "execution_count": null,
      "metadata": {
        "id": "zY_XvOKvLrNm"
      },
      "outputs": [],
      "source": [
        "def kC2_accuracy(X_test,Y_test,X_train,Y_train,classifier):\n",
        "\n",
        "  shape = (Y_test.shape[0],TOTAL_CLASSES)\n",
        "  votes = np.zeros(shape)\n",
        "\n",
        "  for idx in range(TOTAL_CLASSES):\n",
        "    for jdx in range(idx+1,TOTAL_CLASSES):\n",
        "      \n",
        "      indices = np.append(np.where(Y_train==idx)[0],np.where(Y_train==jdx)[0])\n",
        "      Xij = X_train[indices]\n",
        "      Yij = np.where(Y_train[indices]==jdx,1,-1)\n",
        "\n",
        "      Xij = Xij.astype('float64')\n",
        "      Yij = Yij.astype('float64')\n",
        "\n",
        "      ALPHA = classifier[idx,jdx][0]\n",
        "      INDICES = classifier[idx,jdx][1]\n",
        "      B = classifier[idx,jdx][2]\n",
        "\n",
        "      this_pred = eval(X_test,Y_test,Xij[INDICES],Yij[INDICES],ALPHA[INDICES],B,INDICES,gamma)\n",
        "\n",
        "      for kdx in range(Y_test.shape[0]):\n",
        "        if this_pred[kdx]==1:\n",
        "          votes[kdx][jdx] += 1\n",
        "        else:\n",
        "          votes[kdx][idx] += 1\n",
        "      \n",
        "      print(str(idx)+\",\"+str(jdx)+\": prediction done\")\n",
        "\n",
        "  pred = np.reshape(np.argmax(votes,1),(Y_test.shape[0],1))\n",
        "  acc = (sum(pred==Y_test)[0]*100)/Y_test.shape[0]\n",
        "  print(\"Accuracy is : \"+str(acc))\n",
        "  print(metrics.confusion_matrix(Y_test,pred))\n",
        "\n",
        "  return pred"
      ]
    },
    {
      "cell_type": "code",
      "execution_count": null,
      "metadata": {
        "colab": {
          "base_uri": "https://localhost:8080/"
        },
        "id": "aqTIEUXNH1Mv",
        "outputId": "780cccf9-4acf-4674-a2dd-b51a8feabab1"
      },
      "outputs": [
        {
          "name": "stdout",
          "output_type": "stream",
          "text": [
            "For testing dataset: \n",
            "0,1: prediction done\n",
            "0,2: prediction done\n",
            "0,3: prediction done\n",
            "0,4: prediction done\n",
            "1,2: prediction done\n",
            "1,3: prediction done\n",
            "1,4: prediction done\n",
            "2,3: prediction done\n",
            "2,4: prediction done\n",
            "3,4: prediction done\n",
            "Accuracy is : 56.86\n",
            "[[739  47 105  62  47]\n",
            " [139 567  90 175  29]\n",
            " [145  24 459 207 165]\n",
            " [ 97  39 134 661  69]\n",
            " [ 83  20 288 192 417]]\n"
          ]
        }
      ],
      "source": [
        "#print(\"For training dataset: \")\n",
        "#kc2_train_pred = kC2_accuracy(X,Y,classifier)\n",
        "print(\"For testing dataset: \")\n",
        "kc2_test_pred = kC2_accuracy(X_test,Y_test,X,Y,classifier)"
      ]
    },
    {
      "cell_type": "code",
      "execution_count": null,
      "metadata": {
        "id": "otgXti5YD4Sf"
      },
      "outputs": [],
      "source": [
        "def sklearn_svm(X,Y,X_test,Y_test,isLinear,C,gamma):\n",
        "\n",
        "    if isLinear:\n",
        "        print(\"Training the linear classifer\")\n",
        "        clf = SVC(kernel='linear', C=C)\n",
        "    else:\n",
        "        print(\"Training the gaussian classifer\")\n",
        "        clf = SVC(kernel='rbf', gamma=gamma, C=C)\n",
        "    \n",
        "    start_time = time.time()\n",
        "    clf.fit(X,Y)\n",
        "    print(\"Total training time: \"+str(time.time()-start_time))\n",
        "    \n",
        "    pred = clf.predict(X)\n",
        "\n",
        "    print(\"Number of support vectors used : \"+str(np.sum(clf.n_support_)))\n",
        "    print(\"Training accuracy: \"+str(metrics.accuracy_score(pred,Y)))\n",
        "\n",
        "    test_pred = clf.predict(X_test)\n",
        "    print(\"Testing accuracy: \"+str(metrics.accuracy_score(test_pred,Y_test)))\n",
        "\n",
        "    if(isLinear and False):\n",
        "      print(\"The values of w and b in case of linear are: \")\n",
        "      print(clf.coef_[0])\n",
        "      print(clf.intercept_[0])\n",
        "    \n",
        "    #print(\"The confusion matrix on training data is : \")\n",
        "    #print(metrics.confusion_matrix(Y,pred))\n",
        "\n",
        "    print(\"The confusion matrix on testing data is : \")\n",
        "    print(metrics.confusion_matrix(Y_test,test_pred))\n",
        "\n",
        "    return test_pred"
      ]
    },
    {
      "cell_type": "code",
      "execution_count": null,
      "metadata": {
        "colab": {
          "background_save": true,
          "base_uri": "https://localhost:8080/"
        },
        "id": "zfFrFHe1ESKl",
        "outputId": "e1aa2ef4-cfc7-4f28-fdbe-7a9d06dfb7ec"
      },
      "outputs": [
        {
          "name": "stdout",
          "output_type": "stream",
          "text": [
            "Training the gaussian classifer\n"
          ]
        },
        {
          "name": "stderr",
          "output_type": "stream",
          "text": [
            "/usr/local/lib/python3.7/dist-packages/sklearn/utils/validation.py:993: DataConversionWarning: A column-vector y was passed when a 1d array was expected. Please change the shape of y to (n_samples, ), for example using ravel().\n",
            "  y = column_or_1d(y, warn=True)\n"
          ]
        },
        {
          "name": "stdout",
          "output_type": "stream",
          "text": [
            "Total training time: 216.54402422904968\n",
            "Number of support vectors used : 8450\n",
            "Training accuracy: 0.6228\n",
            "Testing accuracy: 0.593\n",
            "The confusion matrix on training data is : \n",
            "[[1444  185  147  130   94]\n",
            " [ 170 1525   63  156   86]\n",
            " [ 305  110  898  240  447]\n",
            " [ 141  174  208 1225  252]\n",
            " [ 193   87  359  225 1136]]\n",
            "The confusion matrix on testing data is : \n",
            "[[729  83  78  61  49]\n",
            " [100 731  42  92  35]\n",
            " [145  61 409 133 252]\n",
            " [ 82  97 123 572 126]\n",
            " [ 98  48 212 118 524]]\n"
          ]
        }
      ],
      "source": [
        "test_pred = sklearn_svm(X,Y,X_test,Y_test,False,C,gamma)"
      ]
    },
    {
      "cell_type": "code",
      "execution_count": null,
      "metadata": {
        "id": "B1BQieELMZ-G"
      },
      "outputs": [],
      "source": [
        "def missclassified(test_pred,Y_test,X_test):\n",
        "  count = 5\n",
        "  for idx in range(len(test_pred)):\n",
        "    if test_pred[idx]!=Y_test[idx]:\n",
        "\n",
        "      img = X_test[idx].reshape((32,32,3))\n",
        "      plt.imshow(img, interpolation='none')\n",
        "      plt.savefig(\"3c_img_\"+str(idx))\n",
        "      plt.show()\n",
        "      count -= 1\n",
        "\n",
        "      if(count==0): break\n",
        "  pass"
      ]
    },
    {
      "cell_type": "code",
      "execution_count": null,
      "metadata": {
        "id": "6jtzY8tVU0QX"
      },
      "outputs": [],
      "source": [
        "from sklearn.utils import shuffle\n",
        "X,Y = shuffle(X,Y)\n",
        "X_test,Y_test = shuffle(X,Y)\n",
        "\n",
        "from sklearn.model_selection import KFold\n",
        "\n",
        "C_List = [1e-5, 1e-3, 1, 5, 10]"
      ]
    },
    {
      "cell_type": "code",
      "execution_count": null,
      "metadata": {
        "id": "szY5l1ngbXoW"
      },
      "outputs": [],
      "source": [
        "def cross_SVM(X,Y,X_test,Y_test,C_List,gamma,kfolds = 5):\n",
        "\n",
        "    val_acc = []\n",
        "    test_acc = []\n",
        "    kf = KFold(n_splits = kfolds)\n",
        "\n",
        "    for thisC in C_List:\n",
        "      print(\"Currently testing for : \"+str(thisC))\n",
        "      model = SVC(kernel='rbf', gamma=gamma, C=thisC)\n",
        "\n",
        "      maxAcc = 0\n",
        "      maxTestAcc = 0\n",
        "      sumAcc = 0\n",
        "      count = 0\n",
        "\n",
        "      for train_index,test_index in kf.split(X):\n",
        "\n",
        "        print(\"Started split num : \"+str(count))\n",
        "        \n",
        "        X_big,X_small = X[train_index],X[test_index]\n",
        "        Y_big,Y_small = Y[train_index],Y[test_index]\n",
        "\n",
        "        count += 1\n",
        "\n",
        "        model.fit(X_big,Y_big)\n",
        "        model_pred = model.predict(X_small)\n",
        "        thisAcc = metrics.accuracy_score(Y_small,model_pred)\n",
        "\n",
        "        if thisAcc>maxAcc:\n",
        "          maxAcc = thisAcc\n",
        "\n",
        "          test_pred = model.predict(X_test)\n",
        "          maxTestAcc = metrics.accuracy_score(Y_test,test_pred)\n",
        "\n",
        "        sumAcc += thisAcc\n",
        "      \n",
        "      val_acc.append(sumAcc/kfolds)\n",
        "      test_acc.append(maxTestAcc)\n",
        "    \n",
        "    return val_acc,test_acc"
      ]
    },
    {
      "cell_type": "code",
      "execution_count": null,
      "metadata": {
        "colab": {
          "background_save": true,
          "base_uri": "https://localhost:8080/"
        },
        "id": "uGPATSIwfgws",
        "outputId": "21ee8966-524f-49e7-984d-045d963b4af9"
      },
      "outputs": [
        {
          "name": "stdout",
          "output_type": "stream",
          "text": [
            "Currently testing for : 1e-05\n",
            "Started split num : 0\n"
          ]
        },
        {
          "name": "stderr",
          "output_type": "stream",
          "text": [
            "/usr/local/lib/python3.7/dist-packages/sklearn/utils/validation.py:993: DataConversionWarning: A column-vector y was passed when a 1d array was expected. Please change the shape of y to (n_samples, ), for example using ravel().\n",
            "  y = column_or_1d(y, warn=True)\n"
          ]
        },
        {
          "name": "stdout",
          "output_type": "stream",
          "text": [
            "Started split num : 1\n"
          ]
        },
        {
          "name": "stderr",
          "output_type": "stream",
          "text": [
            "/usr/local/lib/python3.7/dist-packages/sklearn/utils/validation.py:993: DataConversionWarning: A column-vector y was passed when a 1d array was expected. Please change the shape of y to (n_samples, ), for example using ravel().\n",
            "  y = column_or_1d(y, warn=True)\n"
          ]
        },
        {
          "name": "stdout",
          "output_type": "stream",
          "text": [
            "Started split num : 2\n"
          ]
        },
        {
          "name": "stderr",
          "output_type": "stream",
          "text": [
            "/usr/local/lib/python3.7/dist-packages/sklearn/utils/validation.py:993: DataConversionWarning: A column-vector y was passed when a 1d array was expected. Please change the shape of y to (n_samples, ), for example using ravel().\n",
            "  y = column_or_1d(y, warn=True)\n"
          ]
        },
        {
          "name": "stdout",
          "output_type": "stream",
          "text": [
            "Started split num : 3\n"
          ]
        },
        {
          "name": "stderr",
          "output_type": "stream",
          "text": [
            "/usr/local/lib/python3.7/dist-packages/sklearn/utils/validation.py:993: DataConversionWarning: A column-vector y was passed when a 1d array was expected. Please change the shape of y to (n_samples, ), for example using ravel().\n",
            "  y = column_or_1d(y, warn=True)\n"
          ]
        },
        {
          "name": "stdout",
          "output_type": "stream",
          "text": [
            "Started split num : 4\n"
          ]
        },
        {
          "name": "stderr",
          "output_type": "stream",
          "text": [
            "/usr/local/lib/python3.7/dist-packages/sklearn/utils/validation.py:993: DataConversionWarning: A column-vector y was passed when a 1d array was expected. Please change the shape of y to (n_samples, ), for example using ravel().\n",
            "  y = column_or_1d(y, warn=True)\n"
          ]
        },
        {
          "name": "stdout",
          "output_type": "stream",
          "text": [
            "Currently testing for : 0.001\n",
            "Started split num : 0\n"
          ]
        },
        {
          "name": "stderr",
          "output_type": "stream",
          "text": [
            "/usr/local/lib/python3.7/dist-packages/sklearn/utils/validation.py:993: DataConversionWarning: A column-vector y was passed when a 1d array was expected. Please change the shape of y to (n_samples, ), for example using ravel().\n",
            "  y = column_or_1d(y, warn=True)\n"
          ]
        },
        {
          "name": "stdout",
          "output_type": "stream",
          "text": [
            "Started split num : 1\n"
          ]
        },
        {
          "name": "stderr",
          "output_type": "stream",
          "text": [
            "/usr/local/lib/python3.7/dist-packages/sklearn/utils/validation.py:993: DataConversionWarning: A column-vector y was passed when a 1d array was expected. Please change the shape of y to (n_samples, ), for example using ravel().\n",
            "  y = column_or_1d(y, warn=True)\n"
          ]
        },
        {
          "name": "stdout",
          "output_type": "stream",
          "text": [
            "Started split num : 2\n"
          ]
        },
        {
          "name": "stderr",
          "output_type": "stream",
          "text": [
            "/usr/local/lib/python3.7/dist-packages/sklearn/utils/validation.py:993: DataConversionWarning: A column-vector y was passed when a 1d array was expected. Please change the shape of y to (n_samples, ), for example using ravel().\n",
            "  y = column_or_1d(y, warn=True)\n"
          ]
        },
        {
          "name": "stdout",
          "output_type": "stream",
          "text": [
            "Started split num : 3\n"
          ]
        },
        {
          "name": "stderr",
          "output_type": "stream",
          "text": [
            "/usr/local/lib/python3.7/dist-packages/sklearn/utils/validation.py:993: DataConversionWarning: A column-vector y was passed when a 1d array was expected. Please change the shape of y to (n_samples, ), for example using ravel().\n",
            "  y = column_or_1d(y, warn=True)\n"
          ]
        },
        {
          "name": "stdout",
          "output_type": "stream",
          "text": [
            "Started split num : 4\n"
          ]
        },
        {
          "name": "stderr",
          "output_type": "stream",
          "text": [
            "/usr/local/lib/python3.7/dist-packages/sklearn/utils/validation.py:993: DataConversionWarning: A column-vector y was passed when a 1d array was expected. Please change the shape of y to (n_samples, ), for example using ravel().\n",
            "  y = column_or_1d(y, warn=True)\n"
          ]
        },
        {
          "name": "stdout",
          "output_type": "stream",
          "text": [
            "Currently testing for : 1\n",
            "Started split num : 0\n"
          ]
        },
        {
          "name": "stderr",
          "output_type": "stream",
          "text": [
            "/usr/local/lib/python3.7/dist-packages/sklearn/utils/validation.py:993: DataConversionWarning: A column-vector y was passed when a 1d array was expected. Please change the shape of y to (n_samples, ), for example using ravel().\n",
            "  y = column_or_1d(y, warn=True)\n"
          ]
        },
        {
          "name": "stdout",
          "output_type": "stream",
          "text": [
            "Started split num : 1\n"
          ]
        },
        {
          "name": "stderr",
          "output_type": "stream",
          "text": [
            "/usr/local/lib/python3.7/dist-packages/sklearn/utils/validation.py:993: DataConversionWarning: A column-vector y was passed when a 1d array was expected. Please change the shape of y to (n_samples, ), for example using ravel().\n",
            "  y = column_or_1d(y, warn=True)\n"
          ]
        },
        {
          "name": "stdout",
          "output_type": "stream",
          "text": [
            "Started split num : 2\n"
          ]
        },
        {
          "name": "stderr",
          "output_type": "stream",
          "text": [
            "/usr/local/lib/python3.7/dist-packages/sklearn/utils/validation.py:993: DataConversionWarning: A column-vector y was passed when a 1d array was expected. Please change the shape of y to (n_samples, ), for example using ravel().\n",
            "  y = column_or_1d(y, warn=True)\n"
          ]
        },
        {
          "name": "stdout",
          "output_type": "stream",
          "text": [
            "Started split num : 3\n"
          ]
        },
        {
          "name": "stderr",
          "output_type": "stream",
          "text": [
            "/usr/local/lib/python3.7/dist-packages/sklearn/utils/validation.py:993: DataConversionWarning: A column-vector y was passed when a 1d array was expected. Please change the shape of y to (n_samples, ), for example using ravel().\n",
            "  y = column_or_1d(y, warn=True)\n"
          ]
        },
        {
          "name": "stdout",
          "output_type": "stream",
          "text": [
            "Started split num : 4\n"
          ]
        },
        {
          "name": "stderr",
          "output_type": "stream",
          "text": [
            "/usr/local/lib/python3.7/dist-packages/sklearn/utils/validation.py:993: DataConversionWarning: A column-vector y was passed when a 1d array was expected. Please change the shape of y to (n_samples, ), for example using ravel().\n",
            "  y = column_or_1d(y, warn=True)\n"
          ]
        },
        {
          "name": "stdout",
          "output_type": "stream",
          "text": [
            "Currently testing for : 5\n",
            "Started split num : 0\n"
          ]
        },
        {
          "name": "stderr",
          "output_type": "stream",
          "text": [
            "/usr/local/lib/python3.7/dist-packages/sklearn/utils/validation.py:993: DataConversionWarning: A column-vector y was passed when a 1d array was expected. Please change the shape of y to (n_samples, ), for example using ravel().\n",
            "  y = column_or_1d(y, warn=True)\n"
          ]
        },
        {
          "name": "stdout",
          "output_type": "stream",
          "text": [
            "Started split num : 1\n"
          ]
        },
        {
          "name": "stderr",
          "output_type": "stream",
          "text": [
            "/usr/local/lib/python3.7/dist-packages/sklearn/utils/validation.py:993: DataConversionWarning: A column-vector y was passed when a 1d array was expected. Please change the shape of y to (n_samples, ), for example using ravel().\n",
            "  y = column_or_1d(y, warn=True)\n"
          ]
        },
        {
          "name": "stdout",
          "output_type": "stream",
          "text": [
            "Started split num : 2\n"
          ]
        },
        {
          "name": "stderr",
          "output_type": "stream",
          "text": [
            "/usr/local/lib/python3.7/dist-packages/sklearn/utils/validation.py:993: DataConversionWarning: A column-vector y was passed when a 1d array was expected. Please change the shape of y to (n_samples, ), for example using ravel().\n",
            "  y = column_or_1d(y, warn=True)\n"
          ]
        },
        {
          "name": "stdout",
          "output_type": "stream",
          "text": [
            "Started split num : 3\n"
          ]
        },
        {
          "name": "stderr",
          "output_type": "stream",
          "text": [
            "/usr/local/lib/python3.7/dist-packages/sklearn/utils/validation.py:993: DataConversionWarning: A column-vector y was passed when a 1d array was expected. Please change the shape of y to (n_samples, ), for example using ravel().\n",
            "  y = column_or_1d(y, warn=True)\n"
          ]
        },
        {
          "name": "stdout",
          "output_type": "stream",
          "text": [
            "Started split num : 4\n"
          ]
        },
        {
          "name": "stderr",
          "output_type": "stream",
          "text": [
            "/usr/local/lib/python3.7/dist-packages/sklearn/utils/validation.py:993: DataConversionWarning: A column-vector y was passed when a 1d array was expected. Please change the shape of y to (n_samples, ), for example using ravel().\n",
            "  y = column_or_1d(y, warn=True)\n"
          ]
        },
        {
          "name": "stdout",
          "output_type": "stream",
          "text": [
            "Currently testing for : 10\n",
            "Started split num : 0\n"
          ]
        },
        {
          "name": "stderr",
          "output_type": "stream",
          "text": [
            "/usr/local/lib/python3.7/dist-packages/sklearn/utils/validation.py:993: DataConversionWarning: A column-vector y was passed when a 1d array was expected. Please change the shape of y to (n_samples, ), for example using ravel().\n",
            "  y = column_or_1d(y, warn=True)\n"
          ]
        },
        {
          "name": "stdout",
          "output_type": "stream",
          "text": [
            "Started split num : 1\n"
          ]
        },
        {
          "name": "stderr",
          "output_type": "stream",
          "text": [
            "/usr/local/lib/python3.7/dist-packages/sklearn/utils/validation.py:993: DataConversionWarning: A column-vector y was passed when a 1d array was expected. Please change the shape of y to (n_samples, ), for example using ravel().\n",
            "  y = column_or_1d(y, warn=True)\n"
          ]
        },
        {
          "name": "stdout",
          "output_type": "stream",
          "text": [
            "Started split num : 2\n"
          ]
        },
        {
          "name": "stderr",
          "output_type": "stream",
          "text": [
            "/usr/local/lib/python3.7/dist-packages/sklearn/utils/validation.py:993: DataConversionWarning: A column-vector y was passed when a 1d array was expected. Please change the shape of y to (n_samples, ), for example using ravel().\n",
            "  y = column_or_1d(y, warn=True)\n"
          ]
        },
        {
          "name": "stdout",
          "output_type": "stream",
          "text": [
            "Started split num : 3\n"
          ]
        },
        {
          "name": "stderr",
          "output_type": "stream",
          "text": [
            "/usr/local/lib/python3.7/dist-packages/sklearn/utils/validation.py:993: DataConversionWarning: A column-vector y was passed when a 1d array was expected. Please change the shape of y to (n_samples, ), for example using ravel().\n",
            "  y = column_or_1d(y, warn=True)\n"
          ]
        },
        {
          "name": "stdout",
          "output_type": "stream",
          "text": [
            "Started split num : 4\n"
          ]
        },
        {
          "name": "stderr",
          "output_type": "stream",
          "text": [
            "/usr/local/lib/python3.7/dist-packages/sklearn/utils/validation.py:993: DataConversionWarning: A column-vector y was passed when a 1d array was expected. Please change the shape of y to (n_samples, ), for example using ravel().\n",
            "  y = column_or_1d(y, warn=True)\n"
          ]
        }
      ],
      "source": [
        "val_acc,test_acc = cross_SVM(X,Y,X_test,Y_test,C_List,gamma,5)"
      ]
    },
    {
      "cell_type": "code",
      "execution_count": null,
      "metadata": {
        "colab": {
          "background_save": true
        },
        "id": "WdLNpo6qfmQU",
        "outputId": "07c63526-78bb-4d25-81a4-2e38519bf811"
      },
      "outputs": [
        {
          "name": "stderr",
          "output_type": "stream",
          "text": [
            "WARNING:matplotlib.legend:No handles with labels found to put in legend.\n"
          ]
        },
        {
          "data": {
            "image/png": "[encoded data removed]",
            "text/plain": [
              "<Figure size 432x288 with 1 Axes>"
            ]
          },
          "metadata": {},
          "output_type": "display_data"
        }
      ],
      "source": [
        "c_vals_log = []\n",
        "\n",
        "for thisC in C_List:\n",
        "  c_vals_log.append(math.log(thisC))\n",
        "\n",
        "plt.plot(c_vals_log, val_acc)\n",
        "plt.plot(c_vals_log, test_acc)\n",
        "plt.title(\"Cross validation and test accuracy\")\n",
        "plt.ylabel(\"Accuracy\")\n",
        "plt.xlabel(\"Log(c)\")\n",
        "plt.legend()\n",
        "plt.savefig(\"3d.png\")"
      ]
    },
    {
      "cell_type": "code",
      "execution_count": null,
      "metadata": {
        "colab": {
          "base_uri": "https://localhost:8080/",
          "height": 184
        },
        "id": "pN8TIv7LhQe7",
        "outputId": "fd1a7c81-fb4b-41db-c80a-6dec27604e2d"
      },
      "outputs": [],
      "source": [
        "print(val_acc)\n",
        "print(test_acc)"
      ]
    },
    {
      "cell_type": "code",
      "execution_count": null,
      "metadata": {
        "id": "95QtR6P0KAUo"
      },
      "outputs": [],
      "source": []
    }
  ],
  "metadata": {
    "colab": {
      "collapsed_sections": [],
      "provenance": []
    },
    "kernelspec": {
      "display_name": "Python 3",
      "name": "python3"
    },
    "language_info": {
      "name": "python"
    }
  },
  "nbformat": 4,
  "nbformat_minor": 0
}

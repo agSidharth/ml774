{
 "cells": [
  {
   "cell_type": "code",
   "execution_count": 4,
   "id": "a51a767f",
   "metadata": {},
   "outputs": [],
   "source": [
    "# Importing libraries...\n",
    "import math\n",
    "import sys\n",
    "import matplotlib.pyplot as plt\n",
    "import numpy as np\n",
    "import pandas as pd\n",
    "import os\n",
    "import re\n",
    "import pickle\n",
    "\n",
    "training_file = \"/Users/sidharthagarwal/Desktop/assignments/ml774/Assignment2/Q2/part2_data/train_data.pickle\" #str(sys.argv[1])\n",
    "testing_file  = \"/Users/sidharthagarwal/Desktop/assignments/ml774/Assignment2/Q2/part2_data/test_data.pickle\"  #str(sys.argv[2])"
   ]
  },
  {
   "cell_type": "code",
   "execution_count": 16,
   "id": "73ac4c21",
   "metadata": {},
   "outputs": [
    {
     "name": "stdout",
     "output_type": "stream",
     "text": [
      "[[170 180 198 ...  73  77  80]]\n"
     ]
    }
   ],
   "source": [
    "def readData(file_name):\n",
    "    file = open(file_name,\"rb\")\n",
    "    fileDict = pickle.load(file)\n",
    "    \n",
    "    X = []\n",
    "    Y = []\n",
    "\n",
    "    for idx in range(len(fileDict[\"data\"])):\n",
    "        if Dict[\"labels\"][idx] == 1 or trainDict[\"labels\"][idx] == 2:\n",
    "            X.append([trainDict[\"data\"][idx].reshape(-1)])\n",
    "            Y.append(trainDict[\"labels\"][idx])\n",
    "\n",
    "    X = np.array(X)\n",
    "    Y = np.array(Y)\n",
    "    print(X[0])"
   ]
  },
  {
   "cell_type": "code",
   "execution_count": null,
   "id": "9c9dc146",
   "metadata": {},
   "outputs": [],
   "source": []
  }
 ],
 "metadata": {
  "kernelspec": {
   "display_name": "Python 3 (ipykernel)",
   "language": "python",
   "name": "python3"
  },
  "language_info": {
   "codemirror_mode": {
    "name": "ipython",
    "version": 3
   },
   "file_extension": ".py",
   "mimetype": "text/x-python",
   "name": "python",
   "nbconvert_exporter": "python",
   "pygments_lexer": "ipython3",
   "version": "3.10.6"
  }
 },
 "nbformat": 4,
 "nbformat_minor": 5
}

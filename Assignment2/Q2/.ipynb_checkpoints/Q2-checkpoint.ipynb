{
 "cells": [
  {
   "cell_type": "code",
   "execution_count": 2,
   "id": "a51a767f",
   "metadata": {},
   "outputs": [],
   "source": [
    "# Importing libraries...\n",
    "import math\n",
    "import sys\n",
    "import matplotlib.pyplot as plt\n",
    "import numpy as np\n",
    "import pandas as pd\n",
    "import os\n",
    "import re\n",
    "import pickle\n",
    "\n",
    "training_file = \"/Users/sidharthagarwal/Desktop/assignments/ml774/Assignment2/Q2/part2_data/train_data.pickle\" #str(sys.argv[1])\n",
    "testing_file  = \"/Users/sidharthagarwal/Desktop/assignments/ml774/Assignment2/Q2/part2_data/test_data.pickle\"  #str(sys.argv[2])"
   ]
  },
  {
   "cell_type": "code",
   "execution_count": 9,
   "id": "73ac4c21",
   "metadata": {},
   "outputs": [],
   "source": [
    "def readData(file_name):\n",
    "    file = open(file_name,\"rb\")\n",
    "    fileDict = pickle.load(file)\n",
    "    \n",
    "    X = []\n",
    "    Y = []\n",
    "\n",
    "    for idx in range(len(fileDict[\"data\"])):\n",
    "        if fileDict[\"labels\"][idx] == 1 or fileDict[\"labels\"][idx] == 2:\n",
    "            X.append([fileDict[\"data\"][idx].reshape(-1)])\n",
    "            Y.append(fileDict[\"labels\"][idx])\n",
    "\n",
    "    X = np.array(X)\n",
    "    Y = np.array(Y)\n",
    "    Y = np.where(Y==2,1,-1)\n",
    "    \n",
    "    X = X.astype('float64')\n",
    "    Y = Y.astype('float64')\n",
    "    \n",
    "    return X,Y\n",
    "\n",
    "X,Y = readData(training_file)"
   ]
  },
  {
   "cell_type": "code",
   "execution_count": null,
   "id": "9c9dc146",
   "metadata": {},
   "outputs": [],
   "source": [
    "def svm_cvxopt(X,Y,C,isLinear,epsilon,gamma):\n",
    "    \n",
    "    if isLinear:\n",
    "        tempProd = np.matmult(X,X.T)\n",
    "    \n",
    "    tempProd = np.matmult(Y,Y.T)*tempProd\n",
    "    P = cvxopt.matrix(tempProd)\n",
    "    \n",
    "    tempG = np.identity(Y.shape[0])\n",
    "    G = cvxopt.matrix(np.append(tempG,-1*tempG,axis = 0))\n",
    "    \n",
    "    q = cvxopt.matrix(-1*np.ones((Y.shape[0],1)))\n",
    "    \n",
    "    A = cvxopt.matrix(Y.T)\n",
    "    \n",
    "    tempH = np.ones((Y.shape[0],1))\n",
    "    H = cvxopt.matrix(np.append(C * tempH, 0 * tempH, axis=0))\n",
    "    \n",
    "    B = cvxopt.matrix(0.0)\n",
    "    \n",
    "    sol = cvxopt.solvers.qp(P, Q, G, H, A, B, options={'show_progress': False})\n",
    "    \n",
    "    tempX = np.array(sol['x'])\n",
    "    alpha = np.reshape(tempX, (Y.shape[0],1))\n",
    "    \n",
    "    inner_prod = np.sum(alpha*Y*tempProd,0)\n",
    "    indices = []\n",
    "    \n",
    "    for idx in range(Y.shape[0]):\n",
    "        if alpha[idx] > epsilon:\n",
    "            indices.append(idx)\n",
    "\n",
    "\tM = max(indices, key=lambda i: -float(\"inf\") if Y[i] == 1 or alpha[i] >= c - tol else inner_prod[i])\n",
    "\tm = min(indices, key=lambda i: float(\"inf\") if Y[i] == -1 or alpha[i] >= c - tol else inner_prod[i])\n",
    "\tb = -(inner_prod[M] + inner_prod[m]) / 2\n",
    "    \n",
    "    \n",
    "    "
   ]
  }
 ],
 "metadata": {
  "kernelspec": {
   "display_name": "Python 3 (ipykernel)",
   "language": "python",
   "name": "python3"
  },
  "language_info": {
   "codemirror_mode": {
    "name": "ipython",
    "version": 3
   },
   "file_extension": ".py",
   "mimetype": "text/x-python",
   "name": "python",
   "nbconvert_exporter": "python",
   "pygments_lexer": "ipython3",
   "version": "3.10.6"
  }
 },
 "nbformat": 4,
 "nbformat_minor": 5
}

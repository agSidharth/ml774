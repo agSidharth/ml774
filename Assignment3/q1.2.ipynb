{
 "cells": [
  {
   "cell_type": "code",
   "execution_count": 58,
   "id": "781ce4e5",
   "metadata": {},
   "outputs": [],
   "source": [
    "# Loading important libraries\n",
    "\n",
    "import matplotlib.pyplot as plt\n",
    "import numpy as np\n",
    "import pandas as pd\n",
    "import sys\n",
    "import sklearn.preprocessing as prepro\n",
    "from sklearn.metrics import accuracy_score\n",
    "from sklearn.tree import DecisionTreeClassifier\n",
    "from sklearn.model_selection import GridSearchCV\n",
    "import sklearn.tree as tree\n",
    "from sklearn.ensemble import RandomForestClassifier\n",
    "from sklearn.impute import SimpleImputer\n",
    "import xgboost as xgb\n",
    "from sklearn.feature_extraction.text import TfidfVectorizer\n",
    "import nltk\n",
    "import time\n",
    "from nltk.corpus import stopwords\n",
    "#import lightgbm as lgb\n",
    "\n",
    "SEED = 50661\n",
    "DATA_IMPUTE = \"mean\"\n",
    "STOP_WORDS = stopwords.words('english')\n",
    "VISUALIZE = False\n",
    "MIN_DF = 2\n",
    "\n",
    "SAMPLE_SIZE = 20000"
   ]
  },
  {
   "cell_type": "code",
   "execution_count": 59,
   "id": "f9c8e4db",
   "metadata": {},
   "outputs": [],
   "source": [
    "# Initializing train/test/val file locations\n",
    "\n",
    "trainFile = \"COL774_mammography/train.csv\"\n",
    "testFile = \"COL774_mammography/test.csv\"\n",
    "valFile = \"COL774_mammography/val.csv\""
   ]
  },
  {
   "cell_type": "code",
   "execution_count": 60,
   "id": "f00df47b",
   "metadata": {},
   "outputs": [],
   "source": [
    "# preprocess data\n",
    "\n",
    "trainFile = \"COL774_drug_review/DrugsComTrain.csv\"\n",
    "testFile = \"COL774_drug_review/DrugsComTest.csv\"\n",
    "valFile = \"COL774_drug_review/DrugsComVal.csv\"\n",
    "\n",
    "vectorizer = TfidfVectorizer(stop_words = STOP_WORDS,min_df = MIN_DF)\n",
    "\n",
    "def returnDataText(filename,isTrain = False):\n",
    "    df_temp = pd.read_csv(filename)\n",
    "    df_temp.replace(np.nan,\"\",inplace = True)\n",
    "    \n",
    "    if SAMPLE_SIZE==None or isTrain==False:\n",
    "      df = df_temp\n",
    "    else:\n",
    "      df = df_temp.sample(SAMPLE_SIZE,random_state = SEED)\n",
    "    \n",
    "    text_vector = df[\"condition\"] + \" \" + df[\"review\"] + \" \"+ df[\"date\"]\n",
    "    #print(text_vector.shape)\n",
    "    \n",
    "    if(isTrain):\n",
    "        vectorizer.fit(text_vector)\n",
    "        \n",
    "    X = vectorizer.transform(text_vector)\n",
    "    \n",
    "    #print(len(vectorizer.vocabulary_))\n",
    "    #print(len(vectorizer.stop_words_))\n",
    "    Y = np.array(df[\"rating\"],dtype = int)\n",
    "    \n",
    "    return X,Y\n",
    "\n",
    "X_train,Y_train = returnDataText(trainFile,True)\n",
    "X_test,Y_test = returnDataText(testFile)\n",
    "X_val,Y_val = returnDataText(valFile)"
   ]
  },
  {
   "cell_type": "code",
   "execution_count": 61,
   "id": "8e41affb",
   "metadata": {},
   "outputs": [
    {
     "data": {
      "text/plain": [
       "'\\n# preprocess data\\n\\ntrainFile = \"COL774_mammography/train.csv\"\\ntestFile = \"COL774_mammography/test.csv\"\\nvalFile = \"COL774_mammography/val.csv\"\\n\\ndef returnAgg(vector):\\n    if DATA_IMPUTE==\"mean\":\\n        return np.mean(vector)\\n    return np.median(vector)\\n\\ndef returnData(filename):\\n    df = pd.read_csv(filename)\\n    \\n    if DATA_IMPUTE!=None:\\n        \\n        ageRep = returnAgg(np.array(df[df.Age!=\\'?\\'][\"Age\"],dtype=float))\\n        shapeRep = returnAgg(np.array(df[df.Shape!=\\'?\\'][\"Shape\"],dtype=float))\\n        marginRep = returnAgg(np.array(df[df.Margin!=\\'?\\'][\"Margin\"],dtype=float))\\n        densityRep = returnAgg(np.array(df[df.Density!=\\'?\\'][\"Density\"],dtype=float))\\n        \\n        df.Age.replace(\\'?\\',str(ageRep),inplace = True)\\n        df.Shape.replace(\\'?\\',str(shapeRep),inplace = True)\\n        df.Margin.replace(\\'?\\',str(marginRep),inplace = True)\\n        df.Density.replace(\\'?\\',str(densityRep),inplace = True)\\n    \\n    df.dropna()\\n    df = df[(df.Age!=\\'?\\') & (df.Shape!=\\'?\\') & (df.Margin!=\\'?\\') & (df.Density!=\\'?\\')]\\n    \\n    X = np.array([df[\"Age\"],df[\"Shape\"],df[\"Margin\"],df[\"Density\"]],dtype = float).T\\n    Y = np.array(df[\"Severity\"],dtype = float)\\n    \\n    #X = prepro.normalize(X)\\n    \\n    return X,Y\\n\\nX_train,Y_train = returnData(trainFile)\\nX_test,Y_test = returnData(testFile)\\nX_val,Y_val = returnData(valFile)\\n'"
      ]
     },
     "execution_count": 61,
     "metadata": {},
     "output_type": "execute_result"
    }
   ],
   "source": [
    "\"\"\"\n",
    "# preprocess data\n",
    "\n",
    "trainFile = \"COL774_mammography/train.csv\"\n",
    "testFile = \"COL774_mammography/test.csv\"\n",
    "valFile = \"COL774_mammography/val.csv\"\n",
    "\n",
    "def returnAgg(vector):\n",
    "    if DATA_IMPUTE==\"mean\":\n",
    "        return np.mean(vector)\n",
    "    return np.median(vector)\n",
    "\n",
    "def returnData(filename):\n",
    "    df = pd.read_csv(filename)\n",
    "    \n",
    "    if DATA_IMPUTE!=None:\n",
    "        \n",
    "        ageRep = returnAgg(np.array(df[df.Age!='?'][\"Age\"],dtype=float))\n",
    "        shapeRep = returnAgg(np.array(df[df.Shape!='?'][\"Shape\"],dtype=float))\n",
    "        marginRep = returnAgg(np.array(df[df.Margin!='?'][\"Margin\"],dtype=float))\n",
    "        densityRep = returnAgg(np.array(df[df.Density!='?'][\"Density\"],dtype=float))\n",
    "        \n",
    "        df.Age.replace('?',str(ageRep),inplace = True)\n",
    "        df.Shape.replace('?',str(shapeRep),inplace = True)\n",
    "        df.Margin.replace('?',str(marginRep),inplace = True)\n",
    "        df.Density.replace('?',str(densityRep),inplace = True)\n",
    "    \n",
    "    df.dropna()\n",
    "    df = df[(df.Age!='?') & (df.Shape!='?') & (df.Margin!='?') & (df.Density!='?')]\n",
    "    \n",
    "    X = np.array([df[\"Age\"],df[\"Shape\"],df[\"Margin\"],df[\"Density\"]],dtype = float).T\n",
    "    Y = np.array(df[\"Severity\"],dtype = float)\n",
    "    \n",
    "    #X = prepro.normalize(X)\n",
    "    \n",
    "    return X,Y\n",
    "\n",
    "X_train,Y_train = returnData(trainFile)\n",
    "X_test,Y_test = returnData(testFile)\n",
    "X_val,Y_val = returnData(valFile)\n",
    "\"\"\""
   ]
  },
  {
   "cell_type": "code",
   "execution_count": 62,
   "id": "133f6b7c",
   "metadata": {},
   "outputs": [
    {
     "name": "stdout",
     "output_type": "stream",
     "text": [
      "Time taken : 68.42924499511719\n",
      "Training accuracy : 0.9999557161582882\n",
      "Testing accuracy : 0.5753636126920358\n",
      "Validation accuracy : 0.5764533261691707\n"
     ]
    }
   ],
   "source": [
    "# 1.a\n",
    "\n",
    "def printAccuracies(clf):\n",
    "    \n",
    "    Y_train_pred = clf.predict(X_train)\n",
    "    print(\"Training accuracy : \"+str(accuracy_score(Y_train,Y_train_pred)))\n",
    "\n",
    "    Y_test_pred = clf.predict(X_test)\n",
    "    print(\"Testing accuracy : \"+str(accuracy_score(Y_test,Y_test_pred)))\n",
    "\n",
    "    Y_val_pred = clf.predict(X_val)\n",
    "    print(\"Validation accuracy : \"+str(accuracy_score(Y_val,Y_val_pred)))\n",
    "\n",
    "    \n",
    "clf = DecisionTreeClassifier(random_state = SEED)\n",
    "start_time = time.time()\n",
    "clf.fit(X_train,Y_train)\n",
    "print(\"Time taken : \"+str(time.time()-start_time))\n",
    "printAccuracies(clf)\n",
    "if(VISUALIZE): tree.plot_tree(clf)"
   ]
  },
  {
   "cell_type": "code",
   "execution_count": 66,
   "id": "a5bf608e",
   "metadata": {
    "scrolled": true
   },
   "outputs": [
    {
     "name": "stdout",
     "output_type": "stream",
     "text": [
      "Optimal parameters obtained are : {'max_depth': 8, 'min_samples_leaf': 2, 'min_samples_split': 2}\n",
      "Training accuracy : 0.3436603252205335\n",
      "Testing accuracy : 0.3378901164304579\n",
      "Validation accuracy : 0.3402219512699167\n",
      "Time taken : 2615.812046766281\n"
     ]
    }
   ],
   "source": [
    "# 1.b\n",
    "\n",
    "def doGridSearch(ourEstimator,ourParamGrid):\n",
    "    grid_search = GridSearchCV(estimator = ourEstimator,param_grid = ourParamGrid)\n",
    "    grid_search.fit(X_train,Y_train)\n",
    "\n",
    "    clf = grid_search.best_estimator_\n",
    "    print(\"Optimal parameters obtained are : \"+str(grid_search.best_params_))\n",
    "    printAccuracies(clf)\n",
    "    \n",
    "    return clf\n",
    "\n",
    "param_grid = {'max_depth' : [2,4,8],\n",
    "             'min_samples_split': [2,4,8],\n",
    "             'min_samples_leaf': [2,4,8]}\n",
    "\n",
    "start_time = time.time()\n",
    "clf = doGridSearch(DecisionTreeClassifier(random_state = SEED),param_grid)\n",
    "print(\"Time taken : \"+str(time.time()-start_time))\n",
    "\n",
    "if(VISUALIZE): tree.plot_tree(clf)"
   ]
  },
  {
   "cell_type": "code",
   "execution_count": 67,
   "id": "c153f931",
   "metadata": {},
   "outputs": [
    {
     "data": {
      "image/png": "[encoded data removed]",
      "text/plain": [
       "<Figure size 640x480 with 1 Axes>"
      ]
     },
     "metadata": {},
     "output_type": "display_data"
    },
    {
     "data": {
      "text/plain": [
       "<Figure size 640x480 with 0 Axes>"
      ]
     },
     "metadata": {},
     "output_type": "display_data"
    }
   ],
   "source": [
    "#1.c \n",
    "\n",
    "def plotGraph(pruneDict,values,name):\n",
    "    plt.plot(pruneDict['ccp_alphas'],values)\n",
    "    plt.xlabel('alphas')\n",
    "    plt.ylabel(name)\n",
    "    plt.title(name+' vs alpha')\n",
    "    plt.savefig('1.2.c.'+name+'.png')\n",
    "    plt.figure()\n",
    "\n",
    "clf = DecisionTreeClassifier(random_state = SEED)\n",
    "pruneDict = clf.cost_complexity_pruning_path(X = X_train,y = Y_train)\n",
    "\n",
    "plotGraph(pruneDict,pruneDict['impurities'],'impurities')"
   ]
  },
  {
   "cell_type": "code",
   "execution_count": null,
   "id": "c34a3d50",
   "metadata": {},
   "outputs": [],
   "source": [
    "numNodesList = []\n",
    "depthList = []\n",
    "trainList = []\n",
    "testList = []\n",
    "valList = []\n",
    "\n",
    "best_clf = None\n",
    "best_val_acc = -1\n",
    "\n",
    "start_time = time.time()\n",
    "for thisAlpha in pruneDict[\"ccp_alphas\"]:\n",
    "    clf = DecisionTreeClassifier(ccp_alpha = thisAlpha,random_state = SEED)\n",
    "    clf.fit(X_train,Y_train)\n",
    "    \n",
    "    numNodesList.append(clf.tree_.node_count)\n",
    "    depthList.append(clf.tree_.max_depth)\n",
    "    \n",
    "    Y_train_pred = clf.predict(X_train)\n",
    "    trainList.append(accuracy_score(Y_train,Y_train_pred))\n",
    "\n",
    "    Y_test_pred = clf.predict(X_test)\n",
    "    testList.append(accuracy_score(Y_test,Y_test_pred))\n",
    "\n",
    "    Y_val_pred = clf.predict(X_val)\n",
    "    valList.append(accuracy_score(Y_val,Y_val_pred))\n",
    "    \n",
    "    if accuracy_score(Y_val,Y_val_pred)>best_val_acc:\n",
    "        best_val_acc = accuracy_score(Y_val,Y_val_pred)\n",
    "        best_clf = clf\n",
    "\n",
    "print(\"Time taken : \"+str(time.time()-start_time))\n",
    "\n",
    "\n",
    "plotGraph(pruneDict,numNodesList,'num_nodes')\n",
    "plotGraph(pruneDict,depthList,'max_depth')\n",
    "plotGraph(pruneDict,trainList,'train_accu')\n",
    "plotGraph(pruneDict,testList,'test_accu')\n",
    "plotGraph(pruneDict,valList,'val_accu')\n",
    "\n",
    "printAccuracies(best_clf)"
   ]
  },
  {
   "cell_type": "code",
   "execution_count": null,
   "id": "dfbfb607",
   "metadata": {},
   "outputs": [],
   "source": [
    "# 1.d\n",
    "\n",
    "param_grid = {'n_estimators' : [50,100,150,200,250,300,350,400,450],\n",
    "              'max_features' : [0.4,0.5,0.6,0.7,0.8],\n",
    "              'min_samples_split': [2,4,6,8,10]}\n",
    "\n",
    "start_time = time.time()\n",
    "best_clf = doGridSearch(RandomForestClassifier(random_state = SEED,oob_score = True),param_grid)\n",
    "print(\"Time taken : \"+str(time.time()-start_time))\n",
    "print('OOB score : '+str(best_clf.oob_score_))"
   ]
  },
  {
   "cell_type": "code",
   "execution_count": null,
   "id": "f3d56e09",
   "metadata": {},
   "outputs": [],
   "source": [
    "# 1.e\n",
    "param_grid = {'n_estimators' : [50,100,150,200,250,300,350,400,450],\n",
    "              'subsample' : [0.4,0.5,0.6,0.7,0.8],\n",
    "              'max_depth' : [40,50,60,70]}\n",
    "\n",
    "start_time = time.time()\n",
    "clf = doGridSearch(xgb.XGBClassifier(),param_grid)\n",
    "print(\"Time taken : \"+str(time.time()-start_time))"
   ]
  },
  {
   "cell_type": "code",
   "execution_count": null,
   "id": "0cbe4861",
   "metadata": {},
   "outputs": [],
   "source": []
  }
 ],
 "metadata": {
  "kernelspec": {
   "display_name": "Python 3 (ipykernel)",
   "language": "python",
   "name": "python3"
  },
  "language_info": {
   "codemirror_mode": {
    "name": "ipython",
    "version": 3
   },
   "file_extension": ".py",
   "mimetype": "text/x-python",
   "name": "python",
   "nbconvert_exporter": "python",
   "pygments_lexer": "ipython3",
   "version": "3.10.7"
  }
 },
 "nbformat": 4,
 "nbformat_minor": 5
}

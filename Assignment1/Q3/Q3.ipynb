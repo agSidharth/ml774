{
 "cells": [
  {
   "cell_type": "code",
   "execution_count": 79,
   "id": "143ac34f",
   "metadata": {},
   "outputs": [],
   "source": [
    "# Importing libraries..\n",
    "import numpy as np\n",
    "import random\n",
    "import matplotlib.pyplot as plt\n",
    "import pandas as pd"
   ]
  },
  {
   "cell_type": "code",
   "execution_count": 80,
   "id": "300b8c00",
   "metadata": {},
   "outputs": [
    {
     "name": "stdout",
     "output_type": "stream",
     "text": [
      "(99, 3)\n",
      "(99, 1)\n"
     ]
    }
   ],
   "source": [
    "# Reading data\n",
    "df = pd.read_csv(\"/Users/sidharthagarwal/Desktop/assignments/ml774/data/q3/logisticX.csv\")\n",
    "X  = df.to_numpy()\n",
    "\n",
    "# adding intercept in X\n",
    "X = np.append(X,np.ones((X.shape[0],1)),axis = 1)\n",
    "\n",
    "dfY = pd.read_csv(\"/Users/sidharthagarwal/Desktop/assignments/ml774/data/q3/logisticY.csv\")\n",
    "Y = dfY.to_numpy()\n",
    "\n",
    "print(X.shape)\n",
    "print(Y.shape)"
   ]
  },
  {
   "cell_type": "code",
   "execution_count": 81,
   "id": "2fa78dca",
   "metadata": {},
   "outputs": [
    {
     "name": "stdout",
     "output_type": "stream",
     "text": [
      "[4.62606263 4.52602323]\n",
      "[1.32353523 1.39379711]\n"
     ]
    }
   ],
   "source": [
    "# Normalizing the data\n",
    "\n",
    "mean = np.mean(X[:,0:2],axis = 0)\n",
    "std  = np.std(X[:,0:2],axis = 0)\n",
    "\n",
    "X[:,0:2] = X[:,0:2]-mean\n",
    "X[:,0:2] = X[:,0:2]/std\n",
    "\n",
    "print(mean)\n",
    "print(std)\n"
   ]
  },
  {
   "cell_type": "code",
   "execution_count": 82,
   "id": "f6da90f0",
   "metadata": {},
   "outputs": [
    {
     "name": "stdout",
     "output_type": "stream",
     "text": [
      "[[0.]\n",
      " [0.]\n",
      " [0.]]\n"
     ]
    }
   ],
   "source": [
    "# initialization of parameters\n",
    "theta = np.zeros((X.shape[1],1))\n",
    "epsilon = 0.01\n",
    "print(theta)"
   ]
  },
  {
   "cell_type": "code",
   "execution_count": 83,
   "id": "1483dfc6",
   "metadata": {},
   "outputs": [],
   "source": [
    "# helper functions to calculate the hypothesis, hessian, gradients and training algorithm\n",
    "\n",
    "# finding the hypothesis\n",
    "def sigmoid(X,theta):\n",
    "    y_temp = (1/(1+np.exp(-1*np.dot(X,theta))))\n",
    "    return y_temp\n",
    "\n",
    "# finding the hessian using the formula XT.diag.X\n",
    "def returnHes(X,Y,theta):\n",
    "    y_hyp = sigmoid(X,theta)\n",
    "    diag = np.identity(X.shape[0])*np.dot(y_hyp.transpose(),(1-y_hyp))\n",
    "    return np.dot(X.transpose(),np.dot(diag,X))\n",
    "    \n",
    "# finding the gradient..\n",
    "def returnGrad(X,Y,theta):\n",
    "    return np.dot(X.transpose(),sigmoid(X,theta)-Y)\n",
    "\n",
    "# converging the algorithm..\n",
    "def newton_method(X,Y,theta):\n",
    "    diff = np.inf\n",
    "    iterations = 0\n",
    "              \n",
    "    while diff>epsilon:\n",
    "              \n",
    "        hessian = returnHes(X,Y,theta)\n",
    "        hessian_inv = np.linalg.inv(hessian)\n",
    "        gradient = returnGrad(X,Y,theta)\n",
    "        \n",
    "        new_theta = theta - np.dot(hessian_inv,gradient)\n",
    "        diff = abs(np.linalg.norm(new_theta - theta))\n",
    "        theta = new_theta\n",
    "        \n",
    "        print(\"Iteration : \"+str(iterations)+\" ==> \"+str(diff))\n",
    "        iterations += 1\n",
    "    \n",
    "    print(\"Number of iterations taken: \"+str(iterations))\n",
    "    print(\"Final theta : \"+str(theta))\n",
    "    return theta"
   ]
  },
  {
   "cell_type": "code",
   "execution_count": 84,
   "id": "233bf297",
   "metadata": {},
   "outputs": [
    {
     "name": "stdout",
     "output_type": "stream",
     "text": [
      "Iteration : 0 ==> 0.013014544222235525\n",
      "Iteration : 1 ==> 0.012883907233990482\n",
      "Iteration : 2 ==> 0.012756194989847253\n",
      "Iteration : 3 ==> 0.012631318098700486\n",
      "Iteration : 4 ==> 0.012509190090937433\n",
      "Iteration : 5 ==> 0.01238972733399291\n",
      "Iteration : 6 ==> 0.012272848949301089\n",
      "Iteration : 7 ==> 0.012158476730672597\n",
      "Iteration : 8 ==> 0.012046535064127008\n",
      "Iteration : 9 ==> 0.011936950849210443\n",
      "Iteration : 10 ==> 0.011829653421827874\n",
      "Iteration : 11 ==> 0.01172457447861735\n",
      "Iteration : 12 ==> 0.01162164800289182\n",
      "Iteration : 13 ==> 0.011520810192171245\n",
      "Iteration : 14 ==> 0.011421999387324449\n",
      "Iteration : 15 ==> 0.011325156003337295\n",
      "Iteration : 16 ==> 0.011230222461719983\n",
      "Iteration : 17 ==> 0.011137143124562418\n",
      "Iteration : 18 ==> 0.011045864230244026\n",
      "Iteration : 19 ==> 0.010956333830799506\n",
      "Iteration : 20 ==> 0.010868501730939636\n",
      "Iteration : 21 ==> 0.010782319428722369\n",
      "Iteration : 22 ==> 0.010697740057866164\n",
      "Iteration : 23 ==> 0.010614718331695153\n",
      "Iteration : 24 ==> 0.010533210488701766\n",
      "Iteration : 25 ==> 0.01045317423971107\n",
      "Iteration : 26 ==> 0.01037456871662747\n",
      "Iteration : 27 ==> 0.010297354422743054\n",
      "Iteration : 28 ==> 0.010221493184584379\n",
      "Iteration : 29 ==> 0.01014694810527271\n",
      "Iteration : 30 ==> 0.010073683519371275\n",
      "Iteration : 31 ==> 0.010001664949191504\n",
      "Iteration : 32 ==> 0.00993085906252913\n",
      "Number of iterations taken: 33\n",
      "Final theta : [[ 0.25656176]\n",
      " [-0.27124687]\n",
      " [ 0.00597512]]\n"
     ]
    }
   ],
   "source": [
    "# running the algorithm\n",
    "theta = newton_method(X,Y,theta)"
   ]
  },
  {
   "cell_type": "code",
   "execution_count": 91,
   "id": "908a2f68",
   "metadata": {},
   "outputs": [
    {
     "data": {
      "text/plain": [
       "Text(0, 0.5, 'x2')"
      ]
     },
     "execution_count": 91,
     "metadata": {},
     "output_type": "execute_result"
    },
    {
     "data": {
      "image/png": "[encoded data removed]",
      "text/plain": [
       "<Figure size 640x480 with 1 Axes>"
      ]
     },
     "metadata": {},
     "output_type": "display_data"
    }
   ],
   "source": [
    "# plotting the graph..\n",
    "y0 = []\n",
    "x10 = []\n",
    "x20 = []\n",
    "\n",
    "y1 = []\n",
    "x11 = []\n",
    "x21 = []\n",
    "\n",
    "for idx in range(X.shape[0]):\n",
    "    if Y[idx][0] == 0:\n",
    "        y0.append(idx)\n",
    "        x10.append(X[idx][0])\n",
    "        x20.append(X[idx][1])\n",
    "    else:\n",
    "        y1.append(idx)\n",
    "        x11.append(X[idx][0])\n",
    "        x21.append(X[idx][1])\n",
    "\n",
    "plt.scatter(x10,x20,color = \"blue\",marker = \"x\",label = '0')\n",
    "plt.scatter(x11,x21,color = \"orange\" ,marker = \"o\",label = '1')\n",
    "\n",
    "# the equation of line in logistic regression ins thetaT.x = 0\n",
    "y_line = (-1)*X[:,0]*theta[0][0]/theta[1][0] + (-1)*theta[2][0]/theta[1][0]\n",
    "plt.plot(X[:,0],y_line)\n",
    "\n",
    "plt.legend()\n",
    "\n",
    "plt.xlabel(\"x1\")\n",
    "plt.ylabel(\"x2\")"
   ]
  }
 ],
 "metadata": {
  "kernelspec": {
   "display_name": "Python 3 (ipykernel)",
   "language": "python",
   "name": "python3"
  },
  "language_info": {
   "codemirror_mode": {
    "name": "ipython",
    "version": 3
   },
   "file_extension": ".py",
   "mimetype": "text/x-python",
   "name": "python",
   "nbconvert_exporter": "python",
   "pygments_lexer": "ipython3",
   "version": "3.10.6"
  }
 },
 "nbformat": 4,
 "nbformat_minor": 5
}
